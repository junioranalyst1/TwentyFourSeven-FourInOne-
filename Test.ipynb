{
 "cells": [
  {
   "cell_type": "code",
   "execution_count": 52,
   "metadata": {},
   "outputs": [],
   "source": [
    "import numpy as np\n",
    "from copy import deepcopy\n",
    "from scipy import ndimage"
   ]
  },
  {
   "cell_type": "code",
   "execution_count": 53,
   "metadata": {},
   "outputs": [
    {
     "name": "stdout",
     "output_type": "stream",
     "text": [
      "[[nan nan nan nan nan nan nan]\n",
      " [nan nan nan  1. nan nan nan]\n",
      " [nan nan nan nan nan  3. nan]\n",
      " [nan  4. nan nan nan nan nan]\n",
      " [nan nan nan nan  2. nan nan]\n",
      " [nan nan  6. nan nan nan nan]\n",
      " [nan nan nan nan nan nan nan]]\n"
     ]
    }
   ],
   "source": [
    "grid1 = [[np.nan,np.nan,np.nan,np.nan,np.nan,np.nan,np.nan],\n",
    "         [np.nan,np.nan,np.nan,1,np.nan,np.nan,np.nan],\n",
    "         [np.nan,np.nan,np.nan,np.nan,np.nan,3,np.nan],\n",
    "         [np.nan,4,np.nan,np.nan,np.nan,np.nan,np.nan],\n",
    "         [np.nan,np.nan,np.nan,np.nan,2,np.nan,np.nan],\n",
    "         [np.nan,np.nan,6,np.nan,np.nan,np.nan,np.nan],\n",
    "         [np.nan,np.nan,np.nan,np.nan,np.nan,np.nan,np.nan]]\n",
    "grid1 = np.matrix(grid1)\n",
    "print(grid1)\n",
    "\n",
    "topfirst1 =    [6,36,30,34,27,3,40]\n",
    "bottomfirst1 = [None,None,None,None,None,None,None]\n",
    "leftfirst1 =   [5,7,7,33,29,2,40]\n",
    "rightfirst1 =  [None,None,None,None,None,None,None]"
   ]
  },
  {
   "cell_type": "code",
   "execution_count": 54,
   "metadata": {},
   "outputs": [
    {
     "name": "stdout",
     "output_type": "stream",
     "text": [
      "[[nan nan nan nan nan nan nan]\n",
      " [nan nan nan nan  6.  5. nan]\n",
      " [ 3. nan nan nan nan  6. nan]\n",
      " [nan nan nan  7. nan nan nan]\n",
      " [nan nan nan nan nan nan  7.]\n",
      " [nan nan nan  3.  7. nan nan]\n",
      " [nan nan nan nan nan nan nan]]\n"
     ]
    }
   ],
   "source": [
    "grid2 = [[np.nan,np.nan,np.nan,np.nan,np.nan,np.nan,np.nan],\n",
    "         [np.nan,np.nan,np.nan,np.nan,6,5,np.nan],\n",
    "         [3,np.nan,np.nan,np.nan,np.nan,6,np.nan],\n",
    "         [np.nan,np.nan,np.nan,7,np.nan,np.nan,np.nan],\n",
    "         [np.nan,np.nan,np.nan,np.nan,np.nan,np.nan,7],\n",
    "         [np.nan,np.nan,np.nan,3,7,np.nan,np.nan],\n",
    "         [np.nan,np.nan,np.nan,np.nan,np.nan,np.nan,np.nan]]\n",
    "grid2 = np.matrix(grid2)\n",
    "print(grid2)\n",
    "\n",
    "topfirst2 =    [3,40,27,None,None,7,None]\n",
    "bottomfirst2 = [None,None,None,None,None,None,None]\n",
    "leftfirst2 =   [None,None,None,None,None,None,None]\n",
    "rightfirst2 =  [4,None,None,1,None,None,None]"
   ]
  },
  {
   "cell_type": "code",
   "execution_count": 55,
   "metadata": {},
   "outputs": [
    {
     "name": "stdout",
     "output_type": "stream",
     "text": [
      "[[nan nan  6. nan nan nan nan]\n",
      " [nan nan nan nan nan nan nan]\n",
      " [nan nan nan nan nan nan nan]\n",
      " [nan nan nan  7. nan  5. nan]\n",
      " [nan  5. nan nan nan  7. nan]\n",
      " [nan  6.  7. nan nan nan nan]\n",
      " [nan nan nan nan  6. nan nan]]\n"
     ]
    }
   ],
   "source": [
    "grid3 = [[np.nan,np.nan,6,np.nan,np.nan,np.nan,np.nan],\n",
    "         [np.nan,np.nan,np.nan,np.nan,np.nan,np.nan,np.nan],\n",
    "         [np.nan,np.nan,np.nan,np.nan,np.nan,np.nan,np.nan],\n",
    "         [np.nan,np.nan,np.nan,7,np.nan,5,np.nan],\n",
    "         [np.nan,5,np.nan,np.nan,np.nan,7,np.nan],\n",
    "         [np.nan,6,7,np.nan,np.nan,np.nan,np.nan],\n",
    "         [np.nan,np.nan,np.nan,np.nan,6,np.nan,np.nan]]\n",
    "grid3 = np.matrix(grid3)\n",
    "print(grid3)\n",
    "\n",
    "topfirst3 =    [None,None,None,None,None,None,None]\n",
    "bottomfirst3 = [6,None,None,4,None,None,None]\n",
    "leftfirst3 =   [2,40,28,None,None,36,None]\n",
    "rightfirst3 =  [None,None,None,None,None,None,None]"
   ]
  },
  {
   "cell_type": "code",
   "execution_count": 56,
   "metadata": {},
   "outputs": [
    {
     "name": "stdout",
     "output_type": "stream",
     "text": [
      "[[nan nan nan  3.  7. nan nan]\n",
      " [nan nan nan nan nan nan nan]\n",
      " [nan nan nan nan nan nan nan]\n",
      " [ 5. nan nan nan nan nan nan]\n",
      " [ 7. nan nan nan nan nan nan]\n",
      " [nan nan nan nan nan nan nan]\n",
      " [nan nan nan nan nan nan nan]]\n"
     ]
    }
   ],
   "source": [
    "grid4 = [[np.nan,np.nan,np.nan,3,7,np.nan,np.nan],\n",
    "         [np.nan,np.nan,np.nan,np.nan,np.nan,np.nan,np.nan],\n",
    "         [np.nan,np.nan,np.nan,np.nan,np.nan,np.nan,np.nan],\n",
    "         [5,np.nan,np.nan,np.nan,np.nan,np.nan,np.nan],\n",
    "         [7,np.nan,np.nan,np.nan,np.nan,np.nan,np.nan],\n",
    "         [np.nan,np.nan,np.nan,np.nan,np.nan,np.nan,np.nan],\n",
    "         [np.nan,np.nan,np.nan,np.nan,np.nan,np.nan,np.nan]]\n",
    "grid4 = np.matrix(grid4)\n",
    "print(grid4)\n",
    "\n",
    "topfirst4 =    [None,None,None,None,None,None,None]\n",
    "bottomfirst4 = [None,None,None,None,None,None,5]\n",
    "leftfirst4 =   [None,None,None,None,None,None,None]\n",
    "rightfirst4 =  [None,None,None,None,None,None,7]"
   ]
  },
  {
   "cell_type": "code",
   "execution_count": 57,
   "metadata": {},
   "outputs": [],
   "source": [
    "def possible(yn,xn,n,originalgrid,topfirst,bottomfirst,leftfirst,rightfirst):    \n",
    "        \n",
    "    #Create a copy of the original grid\n",
    "    grid = deepcopy(originalgrid)\n",
    "    \n",
    "    #Insert new val\n",
    "    grid.itemset((yn, xn), n)\n",
    "    \n",
    "    #If there are no nan, check sum of row and col\n",
    "    if not np.isnan(grid[yn]).any():\n",
    "        if grid[yn].sum() != 20:\n",
    "            return False\n",
    "    \n",
    "\n",
    "    if not np.isnan(grid[:,xn]).any():\n",
    "        if grid[:,xn].sum() != 20:\n",
    "            return False\n",
    "\n",
    "    # if grid jn any direct not 20, return false\n",
    "    # and then I don't need any of the two above\n",
    "        \n",
    "    #Check if new val is allowed by top/bottom/left/right first\n",
    "    if topfirst[xn] != None:\n",
    "        for el in grid[:,xn]:\n",
    "            if np.isnan(el) or el == topfirst[xn]:\n",
    "                break\n",
    "            elif el == 0:\n",
    "                continue\n",
    "            else:\n",
    "                return False\n",
    "            \n",
    "    if bottomfirst[xn] != None:\n",
    "        for el in reversed(grid[:,xn]):\n",
    "            if np.isnan(el) or el == bottomfirst[xn]:\n",
    "                break\n",
    "            elif el == 0:\n",
    "                continue\n",
    "            else:\n",
    "                return False\n",
    "            \n",
    "    if leftfirst[yn] != None:\n",
    "        for el in grid[yn].T:\n",
    "            if np.isnan(el) or el == leftfirst[yn]:\n",
    "                break\n",
    "            elif el == 0:\n",
    "                continue\n",
    "            else:\n",
    "                return False\n",
    "            \n",
    "    if rightfirst[yn] != None:\n",
    "        for el in reversed(grid[yn].T):\n",
    "            if np.isnan(el) or el == rightfirst[yn]:\n",
    "                break\n",
    "            elif el == 0:\n",
    "                continue\n",
    "            else:\n",
    "                return False\n",
    "        \n",
    "    #After the first checks for nan, replace nan with zeros\n",
    "    grid[np.isnan(grid)] = 0\n",
    "    grid = grid.astype(int)\n",
    "    \n",
    "    #Putting a zeros is almost always ok\n",
    "    if n == 0:\n",
    "        return True\n",
    "    \n",
    "    #Check if there are no more than n val equal to n\n",
    "    if np.count_nonzero(grid == n) > n:\n",
    "        return False\n",
    "    \n",
    "    #Check if new val creates row / col with sum 20 and count 4 \n",
    "    if grid[yn].sum() > 20 or np.count_nonzero(grid[yn]) > 4:\n",
    "        return False\n",
    "    if grid[:,xn].sum() > 20 or np.count_nonzero(grid[:,xn]) > 4:\n",
    "        return False\n",
    "    \n",
    "    #Check neighbouring squares\n",
    "    grid = grid.tolist()\n",
    "    try: #Top left square\n",
    "        topleftcorner = grid[yn-1][xn-1]\n",
    "        top = grid[yn-1][xn]\n",
    "        left = grid[yn][xn-1]\n",
    "        if topleftcorner != 0 and top != 0 and left != 0:\n",
    "            return False\n",
    "    except IndexError:\n",
    "        pass\n",
    "    \n",
    "    try: #Top right square\n",
    "        toprightcorner = grid[yn-1][xn+1]\n",
    "        top = grid[yn-1][xn]\n",
    "        right = grid[yn][xn+1]\n",
    "        if toprightcorner != 0 and top != 0 and right != 0:\n",
    "            return False\n",
    "    except IndexError:\n",
    "        pass\n",
    "    \n",
    "    try: #Bottom left square\n",
    "        bottomleftcorner = grid[yn+1][xn-1]\n",
    "        bottom = grid[yn+1][xn]\n",
    "        left = grid[yn][xn-1]\n",
    "        if bottomleftcorner != 0 and bottom != 0 and left != 0:\n",
    "            return False\n",
    "    except IndexError:\n",
    "        pass\n",
    "    \n",
    "    try: #Bottom right square\n",
    "        bottomrightcorner = grid[yn+1][xn+1]\n",
    "        bottom = grid[yn+1][xn]\n",
    "        left = grid[yn][xn+1]\n",
    "        if bottomrightcorner != 0 and bottom != 0 and right != 0:\n",
    "            return False\n",
    "    except IndexError:\n",
    "        pass \n",
    "        \n",
    "    #If the number passes all selections return True\n",
    "    return True    "
   ]
  },
  {
   "cell_type": "code",
   "execution_count": 58,
   "metadata": {},
   "outputs": [],
   "source": [
    "def solve(grid,topfirst,bottomfirst,leftfirst,rightfirst):\n",
    "    \n",
    "    for y in range(7):\n",
    "        for x in range(7):\n",
    "            if np.isnan(grid.item((y,x))):\n",
    "                for n in reversed(range(0,8)):\n",
    "                    if possible(y,x,n,grid,topfirst,bottomfirst,leftfirst,rightfirst):\n",
    "                        grid.itemset((y, x), n)\n",
    "                        sol = solve(grid,topfirst,bottomfirst,leftfirst,rightfirst)\n",
    "                        try:\n",
    "                            if sol == None:\n",
    "                                pass\n",
    "                        except ValueError:\n",
    "                            return sol  \n",
    "                        grid.itemset((y, x), np.nan)\n",
    "                return \n",
    "    \n",
    "    #Check whether the grid is a fully-connected island\n",
    "    _ , numberfeatures = ndimage.label(grid)\n",
    "    if numberfeatures == 1:\n",
    "        return grid"
   ]
  },
  {
   "cell_type": "code",
   "execution_count": 59,
   "metadata": {},
   "outputs": [
    {
     "name": "stdout",
     "output_type": "stream",
     "text": [
      "None\n"
     ]
    }
   ],
   "source": [
    "g1 = deepcopy(grid1)\n",
    "sol1 = solve(g1,topfirst1,bottomfirst1,leftfirst1,rightfirst1)\n",
    "print(sol1)"
   ]
  },
  {
   "cell_type": "code",
   "execution_count": 60,
   "metadata": {
    "scrolled": true
   },
   "outputs": [
    {
     "name": "stdout",
     "output_type": "stream",
     "text": [
      "None\n"
     ]
    }
   ],
   "source": [
    "g2 = deepcopy(grid2)\n",
    "sol2 = solve(g2,topfirst2,bottomfirst2,leftfirst2,rightfirst2)\n",
    "print(sol2)"
   ]
  },
  {
   "cell_type": "code",
   "execution_count": 61,
   "metadata": {},
   "outputs": [
    {
     "name": "stdout",
     "output_type": "stream",
     "text": [
      "None\n"
     ]
    }
   ],
   "source": [
    "g3 = deepcopy(grid3)\n",
    "sol3 = solve(g3,topfirst3,bottomfirst3,leftfirst3,rightfirst3)\n",
    "print(sol3)"
   ]
  },
  {
   "cell_type": "code",
   "execution_count": 62,
   "metadata": {},
   "outputs": [
    {
     "ename": "KeyboardInterrupt",
     "evalue": "",
     "output_type": "error",
     "traceback": [
      "\u001b[0;31m---------------------------------------------------------------------------\u001b[0m",
      "\u001b[0;31mKeyboardInterrupt\u001b[0m                         Traceback (most recent call last)",
      "\u001b[1;32m/Users/nicolashoeck/Documents/GitHub/TwentyFourSeven-FourInOne-/Test.ipynb Cell 11\u001b[0m in \u001b[0;36m<cell line: 2>\u001b[0;34m()\u001b[0m\n\u001b[1;32m      <a href='vscode-notebook-cell:/Users/nicolashoeck/Documents/GitHub/TwentyFourSeven-FourInOne-/Test.ipynb#X13sZmlsZQ%3D%3D?line=0'>1</a>\u001b[0m g4 \u001b[39m=\u001b[39m deepcopy(grid4)\n\u001b[0;32m----> <a href='vscode-notebook-cell:/Users/nicolashoeck/Documents/GitHub/TwentyFourSeven-FourInOne-/Test.ipynb#X13sZmlsZQ%3D%3D?line=1'>2</a>\u001b[0m sol4 \u001b[39m=\u001b[39m solve(g4,topfirst4,bottomfirst4,leftfirst4,rightfirst4)\n\u001b[1;32m      <a href='vscode-notebook-cell:/Users/nicolashoeck/Documents/GitHub/TwentyFourSeven-FourInOne-/Test.ipynb#X13sZmlsZQ%3D%3D?line=2'>3</a>\u001b[0m \u001b[39mprint\u001b[39m(sol4)\n",
      "\u001b[1;32m/Users/nicolashoeck/Documents/GitHub/TwentyFourSeven-FourInOne-/Test.ipynb Cell 11\u001b[0m in \u001b[0;36msolve\u001b[0;34m(grid, topfirst, bottomfirst, leftfirst, rightfirst)\u001b[0m\n\u001b[1;32m      <a href='vscode-notebook-cell:/Users/nicolashoeck/Documents/GitHub/TwentyFourSeven-FourInOne-/Test.ipynb#X13sZmlsZQ%3D%3D?line=6'>7</a>\u001b[0m \u001b[39mif\u001b[39;00m possible(y,x,n,grid,topfirst,bottomfirst,leftfirst,rightfirst):\n\u001b[1;32m      <a href='vscode-notebook-cell:/Users/nicolashoeck/Documents/GitHub/TwentyFourSeven-FourInOne-/Test.ipynb#X13sZmlsZQ%3D%3D?line=7'>8</a>\u001b[0m     grid\u001b[39m.\u001b[39mitemset((y, x), n)\n\u001b[0;32m----> <a href='vscode-notebook-cell:/Users/nicolashoeck/Documents/GitHub/TwentyFourSeven-FourInOne-/Test.ipynb#X13sZmlsZQ%3D%3D?line=8'>9</a>\u001b[0m     sol \u001b[39m=\u001b[39m solve(grid,topfirst,bottomfirst,leftfirst,rightfirst)\n\u001b[1;32m     <a href='vscode-notebook-cell:/Users/nicolashoeck/Documents/GitHub/TwentyFourSeven-FourInOne-/Test.ipynb#X13sZmlsZQ%3D%3D?line=9'>10</a>\u001b[0m     \u001b[39mtry\u001b[39;00m:\n\u001b[1;32m     <a href='vscode-notebook-cell:/Users/nicolashoeck/Documents/GitHub/TwentyFourSeven-FourInOne-/Test.ipynb#X13sZmlsZQ%3D%3D?line=10'>11</a>\u001b[0m         \u001b[39mif\u001b[39;00m sol \u001b[39m==\u001b[39m \u001b[39mNone\u001b[39;00m:\n",
      "\u001b[1;32m/Users/nicolashoeck/Documents/GitHub/TwentyFourSeven-FourInOne-/Test.ipynb Cell 11\u001b[0m in \u001b[0;36msolve\u001b[0;34m(grid, topfirst, bottomfirst, leftfirst, rightfirst)\u001b[0m\n\u001b[1;32m      <a href='vscode-notebook-cell:/Users/nicolashoeck/Documents/GitHub/TwentyFourSeven-FourInOne-/Test.ipynb#X13sZmlsZQ%3D%3D?line=6'>7</a>\u001b[0m \u001b[39mif\u001b[39;00m possible(y,x,n,grid,topfirst,bottomfirst,leftfirst,rightfirst):\n\u001b[1;32m      <a href='vscode-notebook-cell:/Users/nicolashoeck/Documents/GitHub/TwentyFourSeven-FourInOne-/Test.ipynb#X13sZmlsZQ%3D%3D?line=7'>8</a>\u001b[0m     grid\u001b[39m.\u001b[39mitemset((y, x), n)\n\u001b[0;32m----> <a href='vscode-notebook-cell:/Users/nicolashoeck/Documents/GitHub/TwentyFourSeven-FourInOne-/Test.ipynb#X13sZmlsZQ%3D%3D?line=8'>9</a>\u001b[0m     sol \u001b[39m=\u001b[39m solve(grid,topfirst,bottomfirst,leftfirst,rightfirst)\n\u001b[1;32m     <a href='vscode-notebook-cell:/Users/nicolashoeck/Documents/GitHub/TwentyFourSeven-FourInOne-/Test.ipynb#X13sZmlsZQ%3D%3D?line=9'>10</a>\u001b[0m     \u001b[39mtry\u001b[39;00m:\n\u001b[1;32m     <a href='vscode-notebook-cell:/Users/nicolashoeck/Documents/GitHub/TwentyFourSeven-FourInOne-/Test.ipynb#X13sZmlsZQ%3D%3D?line=10'>11</a>\u001b[0m         \u001b[39mif\u001b[39;00m sol \u001b[39m==\u001b[39m \u001b[39mNone\u001b[39;00m:\n",
      "    \u001b[0;31m[... skipping similar frames: solve at line 9 (34 times)]\u001b[0m\n",
      "\u001b[1;32m/Users/nicolashoeck/Documents/GitHub/TwentyFourSeven-FourInOne-/Test.ipynb Cell 11\u001b[0m in \u001b[0;36msolve\u001b[0;34m(grid, topfirst, bottomfirst, leftfirst, rightfirst)\u001b[0m\n\u001b[1;32m      <a href='vscode-notebook-cell:/Users/nicolashoeck/Documents/GitHub/TwentyFourSeven-FourInOne-/Test.ipynb#X13sZmlsZQ%3D%3D?line=6'>7</a>\u001b[0m \u001b[39mif\u001b[39;00m possible(y,x,n,grid,topfirst,bottomfirst,leftfirst,rightfirst):\n\u001b[1;32m      <a href='vscode-notebook-cell:/Users/nicolashoeck/Documents/GitHub/TwentyFourSeven-FourInOne-/Test.ipynb#X13sZmlsZQ%3D%3D?line=7'>8</a>\u001b[0m     grid\u001b[39m.\u001b[39mitemset((y, x), n)\n\u001b[0;32m----> <a href='vscode-notebook-cell:/Users/nicolashoeck/Documents/GitHub/TwentyFourSeven-FourInOne-/Test.ipynb#X13sZmlsZQ%3D%3D?line=8'>9</a>\u001b[0m     sol \u001b[39m=\u001b[39m solve(grid,topfirst,bottomfirst,leftfirst,rightfirst)\n\u001b[1;32m     <a href='vscode-notebook-cell:/Users/nicolashoeck/Documents/GitHub/TwentyFourSeven-FourInOne-/Test.ipynb#X13sZmlsZQ%3D%3D?line=9'>10</a>\u001b[0m     \u001b[39mtry\u001b[39;00m:\n\u001b[1;32m     <a href='vscode-notebook-cell:/Users/nicolashoeck/Documents/GitHub/TwentyFourSeven-FourInOne-/Test.ipynb#X13sZmlsZQ%3D%3D?line=10'>11</a>\u001b[0m         \u001b[39mif\u001b[39;00m sol \u001b[39m==\u001b[39m \u001b[39mNone\u001b[39;00m:\n",
      "\u001b[1;32m/Users/nicolashoeck/Documents/GitHub/TwentyFourSeven-FourInOne-/Test.ipynb Cell 11\u001b[0m in \u001b[0;36msolve\u001b[0;34m(grid, topfirst, bottomfirst, leftfirst, rightfirst)\u001b[0m\n\u001b[1;32m      <a href='vscode-notebook-cell:/Users/nicolashoeck/Documents/GitHub/TwentyFourSeven-FourInOne-/Test.ipynb#X13sZmlsZQ%3D%3D?line=4'>5</a>\u001b[0m \u001b[39mif\u001b[39;00m np\u001b[39m.\u001b[39misnan(grid\u001b[39m.\u001b[39mitem((y,x))):\n\u001b[1;32m      <a href='vscode-notebook-cell:/Users/nicolashoeck/Documents/GitHub/TwentyFourSeven-FourInOne-/Test.ipynb#X13sZmlsZQ%3D%3D?line=5'>6</a>\u001b[0m     \u001b[39mfor\u001b[39;00m n \u001b[39min\u001b[39;00m \u001b[39mreversed\u001b[39m(\u001b[39mrange\u001b[39m(\u001b[39m0\u001b[39m,\u001b[39m8\u001b[39m)):\n\u001b[0;32m----> <a href='vscode-notebook-cell:/Users/nicolashoeck/Documents/GitHub/TwentyFourSeven-FourInOne-/Test.ipynb#X13sZmlsZQ%3D%3D?line=6'>7</a>\u001b[0m         \u001b[39mif\u001b[39;00m possible(y,x,n,grid,topfirst,bottomfirst,leftfirst,rightfirst):\n\u001b[1;32m      <a href='vscode-notebook-cell:/Users/nicolashoeck/Documents/GitHub/TwentyFourSeven-FourInOne-/Test.ipynb#X13sZmlsZQ%3D%3D?line=7'>8</a>\u001b[0m             grid\u001b[39m.\u001b[39mitemset((y, x), n)\n\u001b[1;32m      <a href='vscode-notebook-cell:/Users/nicolashoeck/Documents/GitHub/TwentyFourSeven-FourInOne-/Test.ipynb#X13sZmlsZQ%3D%3D?line=8'>9</a>\u001b[0m             sol \u001b[39m=\u001b[39m solve(grid,topfirst,bottomfirst,leftfirst,rightfirst)\n",
      "\u001b[1;32m/Users/nicolashoeck/Documents/GitHub/TwentyFourSeven-FourInOne-/Test.ipynb Cell 11\u001b[0m in \u001b[0;36mpossible\u001b[0;34m(yn, xn, n, originalgrid, topfirst, bottomfirst, leftfirst, rightfirst)\u001b[0m\n\u001b[1;32m      <a href='vscode-notebook-cell:/Users/nicolashoeck/Documents/GitHub/TwentyFourSeven-FourInOne-/Test.ipynb#X13sZmlsZQ%3D%3D?line=8'>9</a>\u001b[0m \u001b[39m#If there are no nan, check sum of row and col\u001b[39;00m\n\u001b[1;32m     <a href='vscode-notebook-cell:/Users/nicolashoeck/Documents/GitHub/TwentyFourSeven-FourInOne-/Test.ipynb#X13sZmlsZQ%3D%3D?line=9'>10</a>\u001b[0m \u001b[39mif\u001b[39;00m \u001b[39mnot\u001b[39;00m np\u001b[39m.\u001b[39misnan(grid[yn])\u001b[39m.\u001b[39many():\n\u001b[0;32m---> <a href='vscode-notebook-cell:/Users/nicolashoeck/Documents/GitHub/TwentyFourSeven-FourInOne-/Test.ipynb#X13sZmlsZQ%3D%3D?line=10'>11</a>\u001b[0m     \u001b[39mif\u001b[39;00m grid[yn]\u001b[39m.\u001b[39;49msum() \u001b[39m!=\u001b[39m \u001b[39m20\u001b[39m:\n\u001b[1;32m     <a href='vscode-notebook-cell:/Users/nicolashoeck/Documents/GitHub/TwentyFourSeven-FourInOne-/Test.ipynb#X13sZmlsZQ%3D%3D?line=11'>12</a>\u001b[0m         \u001b[39mreturn\u001b[39;00m \u001b[39mFalse\u001b[39;00m\n\u001b[1;32m     <a href='vscode-notebook-cell:/Users/nicolashoeck/Documents/GitHub/TwentyFourSeven-FourInOne-/Test.ipynb#X13sZmlsZQ%3D%3D?line=14'>15</a>\u001b[0m \u001b[39mif\u001b[39;00m \u001b[39mnot\u001b[39;00m np\u001b[39m.\u001b[39misnan(grid[:,xn])\u001b[39m.\u001b[39many():\n",
      "File \u001b[0;32m/usr/local/lib/python3.9/site-packages/numpy/matrixlib/defmatrix.py:319\u001b[0m, in \u001b[0;36mmatrix.sum\u001b[0;34m(self, axis, dtype, out)\u001b[0m\n\u001b[1;32m    287\u001b[0m \u001b[39mdef\u001b[39;00m \u001b[39msum\u001b[39m(\u001b[39mself\u001b[39m, axis\u001b[39m=\u001b[39m\u001b[39mNone\u001b[39;00m, dtype\u001b[39m=\u001b[39m\u001b[39mNone\u001b[39;00m, out\u001b[39m=\u001b[39m\u001b[39mNone\u001b[39;00m):\n\u001b[1;32m    288\u001b[0m     \u001b[39m\"\"\"\u001b[39;00m\n\u001b[1;32m    289\u001b[0m \u001b[39m    Returns the sum of the matrix elements, along the given axis.\u001b[39;00m\n\u001b[1;32m    290\u001b[0m \n\u001b[0;32m   (...)\u001b[0m\n\u001b[1;32m    317\u001b[0m \n\u001b[1;32m    318\u001b[0m \u001b[39m    \"\"\"\u001b[39;00m\n\u001b[0;32m--> 319\u001b[0m     \u001b[39mreturn\u001b[39;00m N\u001b[39m.\u001b[39;49mndarray\u001b[39m.\u001b[39;49msum(\u001b[39mself\u001b[39;49m, axis, dtype, out, keepdims\u001b[39m=\u001b[39;49m\u001b[39mTrue\u001b[39;49;00m)\u001b[39m.\u001b[39m_collapse(axis)\n",
      "File \u001b[0;32m/usr/local/lib/python3.9/site-packages/numpy/core/_methods.py:48\u001b[0m, in \u001b[0;36m_sum\u001b[0;34m(a, axis, dtype, out, keepdims, initial, where)\u001b[0m\n\u001b[1;32m     46\u001b[0m \u001b[39mdef\u001b[39;00m \u001b[39m_sum\u001b[39m(a, axis\u001b[39m=\u001b[39m\u001b[39mNone\u001b[39;00m, dtype\u001b[39m=\u001b[39m\u001b[39mNone\u001b[39;00m, out\u001b[39m=\u001b[39m\u001b[39mNone\u001b[39;00m, keepdims\u001b[39m=\u001b[39m\u001b[39mFalse\u001b[39;00m,\n\u001b[1;32m     47\u001b[0m          initial\u001b[39m=\u001b[39m_NoValue, where\u001b[39m=\u001b[39m\u001b[39mTrue\u001b[39;00m):\n\u001b[0;32m---> 48\u001b[0m     \u001b[39mreturn\u001b[39;00m umr_sum(a, axis, dtype, out, keepdims, initial, where)\n",
      "File \u001b[0;32m/usr/local/lib/python3.9/site-packages/numpy/matrixlib/defmatrix.py:167\u001b[0m, in \u001b[0;36mmatrix.__array_finalize__\u001b[0;34m(self, obj)\u001b[0m\n\u001b[1;32m    162\u001b[0m     ret \u001b[39m=\u001b[39m N\u001b[39m.\u001b[39mndarray\u001b[39m.\u001b[39m\u001b[39m__new__\u001b[39m(subtype, shape, arr\u001b[39m.\u001b[39mdtype,\n\u001b[1;32m    163\u001b[0m                             buffer\u001b[39m=\u001b[39marr,\n\u001b[1;32m    164\u001b[0m                             order\u001b[39m=\u001b[39morder)\n\u001b[1;32m    165\u001b[0m     \u001b[39mreturn\u001b[39;00m ret\n\u001b[0;32m--> 167\u001b[0m \u001b[39mdef\u001b[39;00m \u001b[39m__array_finalize__\u001b[39m(\u001b[39mself\u001b[39m, obj):\n\u001b[1;32m    168\u001b[0m     \u001b[39mself\u001b[39m\u001b[39m.\u001b[39m_getitem \u001b[39m=\u001b[39m \u001b[39mFalse\u001b[39;00m\n\u001b[1;32m    169\u001b[0m     \u001b[39mif\u001b[39;00m (\u001b[39misinstance\u001b[39m(obj, matrix) \u001b[39mand\u001b[39;00m obj\u001b[39m.\u001b[39m_getitem): \u001b[39mreturn\u001b[39;00m\n",
      "\u001b[0;31mKeyboardInterrupt\u001b[0m: "
     ]
    }
   ],
   "source": [
    "g4 = deepcopy(grid4)\n",
    "sol4 = solve(g4,topfirst4,bottomfirst4,leftfirst4,rightfirst4)\n",
    "print(sol4)"
   ]
  },
  {
   "cell_type": "code",
   "execution_count": null,
   "metadata": {},
   "outputs": [
    {
     "ename": "TypeError",
     "evalue": "unsupported operand type(s) for +: 'NoneType' and 'NoneType'",
     "output_type": "error",
     "traceback": [
      "\u001b[0;31m---------------------------------------------------------------------------\u001b[0m",
      "\u001b[0;31mTypeError\u001b[0m                                 Traceback (most recent call last)",
      "\u001b[1;32m/Users/nicolashoeck/Documents/GitHub/TwentyFourSeven-FourInOne-/Test.ipynb Cell 12\u001b[0m in \u001b[0;36m<cell line: 1>\u001b[0;34m()\u001b[0m\n\u001b[0;32m----> <a href='vscode-notebook-cell:/Users/nicolashoeck/Documents/GitHub/TwentyFourSeven-FourInOne-/Test.ipynb#X14sZmlsZQ%3D%3D?line=0'>1</a>\u001b[0m solution \u001b[39m=\u001b[39m sol1 \u001b[39m+\u001b[39;49m sol2 \u001b[39m+\u001b[39m sol3 \u001b[39m+\u001b[39m sol4\n\u001b[1;32m      <a href='vscode-notebook-cell:/Users/nicolashoeck/Documents/GitHub/TwentyFourSeven-FourInOne-/Test.ipynb#X14sZmlsZQ%3D%3D?line=1'>2</a>\u001b[0m \u001b[39mprint\u001b[39m(solution)\n",
      "\u001b[0;31mTypeError\u001b[0m: unsupported operand type(s) for +: 'NoneType' and 'NoneType'"
     ]
    }
   ],
   "source": [
    "solution = sol1 + sol2 + sol3 + sol4\n",
    "print(solution)"
   ]
  },
  {
   "cell_type": "code",
   "execution_count": null,
   "metadata": {},
   "outputs": [
    {
     "ename": "",
     "evalue": "",
     "output_type": "error",
     "traceback": [
      "\u001b[1;31mFailed to start the Kernel. \n",
      "\u001b[1;31mView Jupyter <a href='command:jupyter.viewOutput'>log</a> for further details."
     ]
    }
   ],
   "source": [
    "tot = 0\n",
    "for y in range(7):\n",
    "    for x in range(7):\n",
    "        tot += pow(solution.item(y,x),2)\n",
    "print(tot)"
   ]
  },
  {
   "cell_type": "code",
   "execution_count": null,
   "metadata": {},
   "outputs": [
    {
     "ename": "",
     "evalue": "",
     "output_type": "error",
     "traceback": [
      "\u001b[1;31mFailed to start the Kernel. \n",
      "\u001b[1;31mView Jupyter <a href='command:jupyter.viewOutput'>log</a> for further details."
     ]
    }
   ],
   "source": []
  }
 ],
 "metadata": {
  "kernelspec": {
   "display_name": "Python 3",
   "language": "python",
   "name": "python3"
  },
  "language_info": {
   "codemirror_mode": {
    "name": "ipython",
    "version": 3
   },
   "file_extension": ".py",
   "mimetype": "text/x-python",
   "name": "python",
   "nbconvert_exporter": "python",
   "pygments_lexer": "ipython3",
   "version": "3.9.13"
  },
  "vscode": {
   "interpreter": {
    "hash": "397704579725e15f5c7cb49fe5f0341eb7531c82d19f2c29d197e8b64ab5776b"
   }
  }
 },
 "nbformat": 4,
 "nbformat_minor": 2
}
