{
 "cells": [
  {
   "cell_type": "code",
   "execution_count": null,
   "metadata": {},
   "outputs": [],
   "source": [
    "import numpy as np\n",
    "from copy import deepcopy\n",
    "from scipy import ndimage"
   ]
  },
  {
   "cell_type": "code",
   "execution_count": null,
   "metadata": {},
   "outputs": [],
   "source": [
    "grid1 = [[np.nan,np.nan,np.nan,np.nan,np.nan,np.nan,np.nan],\n",
    "         [np.nan,np.nan,np.nan,1,np.nan,np.nan,np.nan],\n",
    "         [np.nan,np.nan,np.nan,np.nan,np.nan,3,np.nan],\n",
    "         [np.nan,4,np.nan,np.nan,np.nan,np.nan,np.nan],\n",
    "         [np.nan,np.nan,np.nan,np.nan,2,np.nan,np.nan],\n",
    "         [np.nan,np.nan,6,np.nan,np.nan,np.nan,np.nan],\n",
    "         [np.nan,np.nan,np.nan,np.nan,np.nan,np.nan,np.nan]]\n",
    "grid1 = np.matrix(grid1)\n",
    "print(grid1)\n",
    "\n",
    "topfirst1 =    [6,36,30,34,27,3,40]\n",
    "bottomfirst1 = [None,None,None,None,None,None,None]\n",
    "leftfirst1 =   [5,7,7,33,29,2,40]\n",
    "rightfirst1 =  [None,None,None,None,None,None,None]"
   ]
  },
  {
   "cell_type": "code",
   "execution_count": null,
   "metadata": {},
   "outputs": [],
   "source": [
    "grid2 = [[np.nan,np.nan,np.nan,np.nan,np.nan,np.nan,np.nan],\n",
    "         [np.nan,np.nan,np.nan,np.nan,6,5,np.nan],\n",
    "         [3,np.nan,np.nan,np.nan,np.nan,6,np.nan],\n",
    "         [np.nan,np.nan,np.nan,7,np.nan,np.nan,np.nan],\n",
    "         [np.nan,np.nan,np.nan,np.nan,np.nan,np.nan,7],\n",
    "         [np.nan,np.nan,np.nan,3,7,np.nan,np.nan],\n",
    "         [np.nan,np.nan,np.nan,np.nan,np.nan,np.nan,np.nan]]\n",
    "grid2 = np.matrix(grid2)\n",
    "print(grid2)\n",
    "\n",
    "topfirst2 =    [3,40,27,None,None,7,None]\n",
    "bottomfirst2 = [None,None,None,None,None,None,None]\n",
    "leftfirst2 =   [None,None,None,None,None,None,None]\n",
    "rightfirst2 =  [4,None,None,1,None,None,None]"
   ]
  },
  {
   "cell_type": "code",
   "execution_count": null,
   "metadata": {},
   "outputs": [],
   "source": [
    "grid3 = [[np.nan,np.nan,6,np.nan,np.nan,np.nan,np.nan],\n",
    "         [np.nan,np.nan,np.nan,np.nan,np.nan,np.nan,np.nan],\n",
    "         [np.nan,np.nan,np.nan,np.nan,np.nan,np.nan,np.nan],\n",
    "         [np.nan,np.nan,np.nan,7,np.nan,5,np.nan],\n",
    "         [np.nan,5,np.nan,np.nan,np.nan,7,np.nan],\n",
    "         [np.nan,6,7,np.nan,np.nan,np.nan,np.nan],\n",
    "         [np.nan,np.nan,np.nan,np.nan,6,np.nan,np.nan]]\n",
    "grid3 = np.matrix(grid3)\n",
    "print(grid3)\n",
    "\n",
    "topfirst3 =    [None,None,None,None,None,None,None]\n",
    "bottomfirst3 = [6,None,None,4,None,None,None]\n",
    "leftfirst3 =   [2,40,28,None,None,36,None]\n",
    "rightfirst3 =  [None,None,None,None,None,None,None]"
   ]
  },
  {
   "cell_type": "code",
   "execution_count": null,
   "metadata": {},
   "outputs": [],
   "source": [
    "grid4 = [[np.nan,np.nan,np.nan,3,7,np.nan,np.nan],\n",
    "         [np.nan,np.nan,np.nan,np.nan,np.nan,np.nan,np.nan],\n",
    "         [np.nan,np.nan,np.nan,np.nan,np.nan,np.nan,np.nan],\n",
    "         [5,np.nan,np.nan,np.nan,np.nan,np.nan,np.nan],\n",
    "         [7,np.nan,np.nan,np.nan,np.nan,np.nan,np.nan],\n",
    "         [np.nan,np.nan,np.nan,np.nan,np.nan,np.nan,np.nan],\n",
    "         [np.nan,np.nan,np.nan,np.nan,np.nan,np.nan,np.nan]]\n",
    "grid4 = np.matrix(grid4)\n",
    "print(grid4)\n",
    "\n",
    "topfirst4 =    [None,None,None,None,None,None,None]\n",
    "bottomfirst4 = [None,None,None,None,None,None,5]\n",
    "leftfirst4 =   [None,None,None,None,None,None,None]\n",
    "rightfirst4 =  [None,None,None,None,None,None,7]"
   ]
  },
  {
   "cell_type": "code",
   "execution_count": null,
   "metadata": {},
   "outputs": [],
   "source": [
    "def possible(yn,xn,n,originalgrid,topfirst,bottomfirst,leftfirst,rightfirst):    \n",
    "        \n",
    "    #Create a copy of the original grid\n",
    "    grid = deepcopy(originalgrid)\n",
    "    \n",
    "    #Insert new val\n",
    "    grid.itemset((yn, xn), n)\n",
    "    \n",
    "    #If there are no nan, check sum of row and col\n",
    "    if not np.isnan(grid[yn]).any():\n",
    "        if grid[yn].sum() != 20:\n",
    "            return False\n",
    "    \n",
    "\n",
    "    if not np.isnan(grid[:,xn]).any():\n",
    "        if grid[:,xn].sum() != 20:\n",
    "            return False\n",
    "\n",
    "    # if grid jn any direct not 20, return false\n",
    "    # and then I don't need any of the two above\n",
    "        \n",
    "    #Check if new val is allowed by top/bottom/left/right first\n",
    "    if topfirst[xn] != None:\n",
    "        for el in grid[:,xn]:\n",
    "            if np.isnan(el) or el == topfirst[xn]:\n",
    "                break\n",
    "            elif el == 0:\n",
    "                continue\n",
    "            else:\n",
    "                return False\n",
    "            \n",
    "    if bottomfirst[xn] != None:\n",
    "        for el in reversed(grid[:,xn]):\n",
    "            if np.isnan(el) or el == bottomfirst[xn]:\n",
    "                break\n",
    "            elif el == 0:\n",
    "                continue\n",
    "            else:\n",
    "                return False\n",
    "            \n",
    "    if leftfirst[yn] != None:\n",
    "        for el in grid[yn].T:\n",
    "            if np.isnan(el) or el == leftfirst[yn]:\n",
    "                break\n",
    "            elif el == 0:\n",
    "                continue\n",
    "            else:\n",
    "                return False\n",
    "            \n",
    "    if rightfirst[yn] != None:\n",
    "        for el in reversed(grid[yn].T):\n",
    "            if np.isnan(el) or el == rightfirst[yn]:\n",
    "                break\n",
    "            elif el == 0:\n",
    "                continue\n",
    "            else:\n",
    "                return False\n",
    "        \n",
    "    #After the first checks for nan, replace nan with zeros\n",
    "    grid[np.isnan(grid)] = 0\n",
    "    grid = grid.astype(int)\n",
    "    \n",
    "    #Putting a zeros is almost always ok\n",
    "    if n == 0:\n",
    "        return True\n",
    "    \n",
    "    #Check if there are no more than n val equal to n\n",
    "    if np.count_nonzero(grid == n) > n:\n",
    "        return False\n",
    "    \n",
    "    #Check if new val creates row / col with sum 20 and count 4 \n",
    "    if grid[yn].sum() > 20 or np.count_nonzero(grid[yn]) > 4:\n",
    "        return False\n",
    "    if grid[:,xn].sum() > 20 or np.count_nonzero(grid[:,xn]) > 4:\n",
    "        return False\n",
    "    \n",
    "    #Check neighbouring squares\n",
    "    grid = grid.tolist()\n",
    "    try: #Top left square\n",
    "        topleftcorner = grid[yn-1][xn-1]\n",
    "        top = grid[yn-1][xn]\n",
    "        left = grid[yn][xn-1]\n",
    "        if topleftcorner != 0 and top != 0 and left != 0:\n",
    "            return False\n",
    "    except IndexError:\n",
    "        pass\n",
    "    \n",
    "    try: #Top right square\n",
    "        toprightcorner = grid[yn-1][xn+1]\n",
    "        top = grid[yn-1][xn]\n",
    "        right = grid[yn][xn+1]\n",
    "        if toprightcorner != 0 and top != 0 and right != 0:\n",
    "            return False\n",
    "    except IndexError:\n",
    "        pass\n",
    "    \n",
    "    try: #Bottom left square\n",
    "        bottomleftcorner = grid[yn+1][xn-1]\n",
    "        bottom = grid[yn+1][xn]\n",
    "        left = grid[yn][xn-1]\n",
    "        if bottomleftcorner != 0 and bottom != 0 and left != 0:\n",
    "            return False\n",
    "    except IndexError:\n",
    "        pass\n",
    "    \n",
    "    try: #Bottom right square\n",
    "        bottomrightcorner = grid[yn+1][xn+1]\n",
    "        bottom = grid[yn+1][xn]\n",
    "        left = grid[yn][xn+1]\n",
    "        if bottomrightcorner != 0 and bottom != 0 and right != 0:\n",
    "            return False\n",
    "    except IndexError:\n",
    "        pass \n",
    "        \n",
    "    #If the number passes all selections return True\n",
    "    return True    "
   ]
  },
  {
   "cell_type": "code",
   "execution_count": null,
   "metadata": {},
   "outputs": [],
   "source": [
    "def solve(grid,topfirst,bottomfirst,leftfirst,rightfirst):\n",
    "    \n",
    "    for y in range(7):\n",
    "        for x in range(7):\n",
    "            if np.isnan(grid.item((y,x))):\n",
    "                for n in reversed(range(0,8)):\n",
    "                    if possible(y,x,n,grid,topfirst,bottomfirst,leftfirst,rightfirst):\n",
    "                        grid.itemset((y, x), n)\n",
    "                        sol = solve(grid,topfirst,bottomfirst,leftfirst,rightfirst)\n",
    "                        try:\n",
    "                            if sol == None:\n",
    "                                pass\n",
    "                        except ValueError:\n",
    "                            return sol  \n",
    "                        grid.itemset((y, x), np.nan)\n",
    "                return \n",
    "    \n",
    "    #Check whether the grid is a fully-connected island\n",
    "    _ , numberfeatures = ndimage.label(grid)\n",
    "    if numberfeatures == 1:\n",
    "        return grid"
   ]
  },
  {
   "cell_type": "code",
   "execution_count": null,
   "metadata": {},
   "outputs": [],
   "source": [
    "g1 = deepcopy(grid1)\n",
    "sol1 = solve(g1,topfirst1,bottomfirst1,leftfirst1,rightfirst1)\n",
    "print(sol1)"
   ]
  },
  {
   "cell_type": "code",
   "execution_count": null,
   "metadata": {
    "scrolled": true
   },
   "outputs": [],
   "source": [
    "g2 = deepcopy(grid2)\n",
    "sol2 = solve(g2,topfirst2,bottomfirst2,leftfirst2,rightfirst2)\n",
    "print(sol2)"
   ]
  },
  {
   "cell_type": "code",
   "execution_count": null,
   "metadata": {},
   "outputs": [],
   "source": [
    "g3 = deepcopy(grid3)\n",
    "sol3 = solve(g3,topfirst3,bottomfirst3,leftfirst3,rightfirst3)\n",
    "print(sol3)"
   ]
  },
  {
   "cell_type": "code",
   "execution_count": null,
   "metadata": {},
   "outputs": [],
   "source": [
    "g4 = deepcopy(grid4)\n",
    "sol4 = solve(g4,topfirst4,bottomfirst4,leftfirst4,rightfirst4)\n",
    "print(sol4)"
   ]
  },
  {
   "cell_type": "code",
   "execution_count": null,
   "metadata": {},
   "outputs": [],
   "source": [
    "solution = sol1 + sol2 + sol3 + sol4\n",
    "print(solution)"
   ]
  },
  {
   "cell_type": "code",
   "execution_count": null,
   "metadata": {},
   "outputs": [],
   "source": [
    "tot = 0\n",
    "for y in range(7):\n",
    "    for x in range(7):\n",
    "        tot += pow(solution.item(y,x),2)\n",
    "print(tot)"
   ]
  },
  {
   "cell_type": "code",
   "execution_count": null,
   "metadata": {},
   "outputs": [],
   "source": []
  }
 ],
 "metadata": {
  "kernelspec": {
   "display_name": "Python 3",
   "language": "python",
   "name": "python3"
  },
  "language_info": {
   "codemirror_mode": {
    "name": "ipython",
    "version": 3
   },
   "file_extension": ".py",
   "mimetype": "text/x-python",
   "name": "python",
   "nbconvert_exporter": "python",
   "pygments_lexer": "ipython3",
   "version": "3.9.13"
  },
  "vscode": {
   "interpreter": {
    "hash": "397704579725e15f5c7cb49fe5f0341eb7531c82d19f2c29d197e8b64ab5776b"
   }
  }
 },
 "nbformat": 4,
 "nbformat_minor": 2
}
